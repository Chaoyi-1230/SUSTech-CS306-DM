{
 "cells": [
  {
   "cell_type": "markdown",
   "metadata": {},
   "source": [
    "# Linear Regression\n",
    "Author: Chaoyi Wang\n",
    "Email: chaoyiwang00@gmail.com\n",
    "The notebook generally shows how to do linear regression with sci-kit learn."
   ]
  },
  {
   "cell_type": "code",
   "execution_count": null,
   "metadata": {},
   "outputs": [],
   "source": [
    "# Necessary imports:\n",
    "import pandas as pd\n",
    "import numpy as np\n",
    "import sklearn as sk\n",
    "import matplotlib.pyplot as plt"
   ]
  },
  {
   "cell_type": "code",
   "execution_count": null,
   "metadata": {},
   "outputs": [],
   "source": [
    "# Data imports and cleaning\n",
    "train = pd.read_csv('train.csv')\n",
    "train.dropna(axis=0, inplace=True)\n",
    "train"
   ]
  },
  {
   "cell_type": "code",
   "execution_count": null,
   "metadata": {},
   "outputs": [],
   "source": [
    "# Obtain columns\n",
    "# iloc[R,C]\n",
    "# reshape(row_number, col_number)\n",
    "X_train = train.iloc[:,:-1].values.reshape(-1,1)\n",
    "Y_train = train.iloc[:,-1].values.reshape(-1,1)"
   ]
  },
  {
   "cell_type": "code",
   "execution_count": null,
   "metadata": {},
   "outputs": [],
   "source": [
    "# Visualize the discrete points\n",
    "plt.figure(figsize=(16,9))\n",
    "plt.scatter(X_train, Y_train, color='blue')\n",
    "plt.show()"
   ]
  },
  {
   "cell_type": "code",
   "execution_count": null,
   "metadata": {},
   "outputs": [],
   "source": [
    "# Import the regression model from sklearn\n",
    "from sklearn.linear_model import LinearRegression\n",
    "LR_Model = LinearRegression()"
   ]
  },
  {
   "cell_type": "code",
   "execution_count": null,
   "metadata": {},
   "outputs": [],
   "source": [
    "# Data fitting\n",
    "LR_Model.fit(X_train, Y_train)\n",
    "# For logistics regression, the target function is:\n",
    "# g(x) = w1x1 + w2x2 + w3x3 + w4x4 + ... + w0\n",
    "# intercept is w0 while coef is w1~wn\n",
    "w0 = LR_Model.intercept_\n",
    "w1 = LR_Model.coef_\n",
    "print(\"Y = \" + str(w1[0][0]) + \"X \" + str(w0[0]))"
   ]
  },
  {
   "cell_type": "code",
   "execution_count": null,
   "metadata": {},
   "outputs": [],
   "source": [
    "plt.scatter(X_train, Y_train, color='blue', alpha=0.5, s=0.5)\n",
    "plt.plot(X_train,w1 * X_train + w0, color='red')\n",
    "plt.title(\"Result\")\n",
    "plt.show()"
   ]
  }
 ],
 "metadata": {
  "kernelspec": {
   "display_name": "Python 3",
   "language": "python",
   "name": "python3"
  },
  "language_info": {
   "codemirror_mode": {
    "name": "ipython",
    "version": 3
   },
   "file_extension": ".py",
   "mimetype": "text/x-python",
   "name": "python",
   "nbconvert_exporter": "python",
   "pygments_lexer": "ipython3",
   "version": "3.9.2"
  }
 },
 "nbformat": 4,
 "nbformat_minor": 4
}
