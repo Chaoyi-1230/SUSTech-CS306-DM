{
 "cells": [
  {
   "cell_type": "markdown",
   "metadata": {},
   "source": [
    "# CS306 Homework1 Data Cleaning\n",
    "Author: 王超逸 WANG Chaoyi\n",
    "\n",
    "SID: 11811014\n",
    "\n",
    "Reference:\n",
    "- Jupyter Usage: https://www.jianshu.com/p/91365f343585 \n",
    "- Data Cleaning Steps: https://mp.weixin.qq.com/s/5ZQBjjHXs6Lo-uclo3thHw\n",
    "- Data Cleaning Functions: https://towardsdatascience.com/the-simple-yet-practical-data-cleaning-codes-ad27c4ce0a38"
   ]
  },
  {
   "cell_type": "markdown",
   "metadata": {},
   "source": [
    "## Necessary imports"
   ]
  },
  {
   "cell_type": "code",
   "execution_count": null,
   "metadata": {},
   "outputs": [],
   "source": [
    "import numpy as np\n",
    "import pandas as pd\n",
    "import chardet as cd"
   ]
  },
  {
   "cell_type": "markdown",
   "metadata": {},
   "source": [
    "## Judge the Encoding"
   ]
  },
  {
   "cell_type": "code",
   "execution_count": null,
   "metadata": {},
   "outputs": [],
   "source": [
    "f = open('./HW1data.csv','rb')\n",
    "data = f.read(10000)\n",
    "cd.detect(data)"
   ]
  },
  {
   "cell_type": "markdown",
   "metadata": {},
   "source": [
    "## Read the data and display\n",
    "(Step 1)"
   ]
  },
  {
   "cell_type": "code",
   "execution_count": null,
   "metadata": {},
   "outputs": [],
   "source": [
    "f.close()\n",
    "raw = pd.read_csv('./HW1data.csv',encoding=\"ISO-8859-1\")\n",
    "raw"
   ]
  },
  {
   "cell_type": "markdown",
   "metadata": {},
   "source": [
    "## Preview"
   ]
  },
  {
   "cell_type": "code",
   "execution_count": null,
   "metadata": {
    "scrolled": true
   },
   "outputs": [],
   "source": [
    "raw.info()\n",
    "raw.describe(include='all')"
   ]
  },
  {
   "cell_type": "markdown",
   "metadata": {},
   "source": [
    "## Find null value"
   ]
  },
  {
   "cell_type": "code",
   "execution_count": null,
   "metadata": {},
   "outputs": [],
   "source": [
    "raw.isnull().sum()"
   ]
  },
  {
   "cell_type": "markdown",
   "metadata": {},
   "source": [
    "## Remove invalid rows\n",
    "dropna() ref: https://www.jianshu.com/p/89de6c085d22 \n",
    "drop() and conditions ref: https://stackoverflow.com/questions/13851535/delete-rows-from-a-pandas-dataframe-based-on-a-conditional-expression-involving\n",
    "(Step 2.b)"
   ]
  },
  {
   "cell_type": "code",
   "execution_count": null,
   "metadata": {},
   "outputs": [],
   "source": [
    "raw.dropna(axis=0,subset=[\"PatientId\",\"ScheduledDay\",\"AppointmentDay\",\"SMS_received\",\"No-show\"],inplace=True)"
   ]
  },
  {
   "cell_type": "markdown",
   "metadata": {},
   "source": [
    "## Infer some information according to the PatientId\n",
    "pd.df.copy: https://blog.csdn.net/lancegentry/article/details/99824524?utm_medium=distribute.pc_relevant.none-task-blog-baidujs_title-1&spm=1001.2101.3001.4242\n",
    "(Step 2.a)"
   ]
  },
  {
   "cell_type": "code",
   "execution_count": null,
   "metadata": {},
   "outputs": [],
   "source": [
    "pid_ref = raw[['PatientId','Gender','Age','Neighbourhood']].copy(deep=False)\n",
    "raw.drop(['Gender','Age','Neighbourhood'],axis=1,inplace=True)\n",
    "pid_ref = pid_ref.groupby('PatientId').agg('first')\n",
    "raw = pd.merge(raw, pid_ref, how='inner', left_on='PatientId', right_on='PatientId')\n",
    "# There is a second way: instead of making a copy and merge, merge the two table directly and remove duplicate columns with NaN.\n",
    "# raw.drop(['Gender_x','Age_x','Neighbourhood_x'],axis=1,inplace=True)\n",
    "# raw.rename({'Gender_y':'Gender','Age_y':'Age','Neighbourhood_y':'Neighbourhood'},axis=1,inplace=True)\n",
    "raw"
   ]
  },
  {
   "cell_type": "markdown",
   "metadata": {},
   "source": [
    "## Process null value which can not be infered.\n",
    "(Step 3)"
   ]
  },
  {
   "cell_type": "code",
   "execution_count": null,
   "metadata": {},
   "outputs": [],
   "source": [
    "raw.dropna(axis=0,subset=[\"PatientId\",\"ScheduledDay\",\"AppointmentDay\",\"SMS_received\",\"No-show\",\"Gender\",\"Age\",\"Neighbourhood\"],inplace=True)\n",
    "raw"
   ]
  },
  {
   "cell_type": "markdown",
   "metadata": {},
   "source": [
    "## Fill NaN with default value\n",
    "fillna() ref: https://zhuanlan.zhihu.com/p/108871281\n",
    "(Step 4)"
   ]
  },
  {
   "cell_type": "code",
   "execution_count": null,
   "metadata": {},
   "outputs": [],
   "source": [
    "raw.fillna({\"Scholarship\":0,\"Hipertension\":0,\"Diabetes\":0,\"Alcoholism\":0,\"Handcap\":0},inplace=True)\n",
    "raw"
   ]
  },
  {
   "cell_type": "markdown",
   "metadata": {},
   "source": [
    "## Remove some columns no more useful\n",
    "(Step 5)"
   ]
  },
  {
   "cell_type": "code",
   "execution_count": null,
   "metadata": {},
   "outputs": [],
   "source": [
    "raw.drop([\"PatientId\",\"AppointmentID\"], axis=1, inplace=True)\n",
    "raw"
   ]
  },
  {
   "cell_type": "markdown",
   "metadata": {},
   "source": [
    "## Find invalid or corrupted data and remove\n",
    "drop() with conditions ref: https://blog.csdn.net/qq236237606/article/details/112322582\n",
    "(Step 6)"
   ]
  },
  {
   "cell_type": "code",
   "execution_count": null,
   "metadata": {},
   "outputs": [],
   "source": [
    "raw = raw.drop(raw[(raw['Age'] < 0)].index)\n",
    "raw"
   ]
  },
  {
   "cell_type": "markdown",
   "metadata": {},
   "source": [
    "## Find invalid or corrupted data and remove\n",
    "drop() with conditions ref: https://blog.csdn.net/qq236237606/article/details/112322582\n",
    "(Step 7)"
   ]
  },
  {
   "cell_type": "code",
   "execution_count": null,
   "metadata": {},
   "outputs": [],
   "source": [
    "raw['ScheduledDay'] = raw['ScheduledDay'].astype('datetime64')\n",
    "raw['AppointmentDay'] = raw['AppointmentDay'].astype('datetime64')\n",
    "raw['Delta_Day'] = raw['AppointmentDay']-raw['ScheduledDay']\n",
    "raw['Delta_Day'] = raw['Delta_Day'].astype('timedelta64[D]')\n",
    "raw"
   ]
  },
  {
   "cell_type": "markdown",
   "metadata": {},
   "source": [
    "## Transfer datetime to DOW\n",
    "date of week ref: https://blog.csdn.net/qq_36076233/article/details/66969108\n",
    "(Step 8)\n"
   ]
  },
  {
   "cell_type": "code",
   "execution_count": null,
   "metadata": {},
   "outputs": [],
   "source": [
    "raw['SDay_DOW']=raw['ScheduledDay'].dt.dayofweek\n",
    "raw['ADay_DOW']=raw['AppointmentDay'].dt.dayofweek\n",
    "raw"
   ]
  },
  {
   "cell_type": "markdown",
   "metadata": {},
   "source": [
    "## Remove columns no more useful\n",
    "(Step 9)"
   ]
  },
  {
   "cell_type": "code",
   "execution_count": null,
   "metadata": {},
   "outputs": [],
   "source": [
    "raw.drop(['ScheduledDay','AppointmentDay'], axis=1, inplace=True)\n",
    "raw.drop(raw[(raw['Delta_Day'] < 0)].index, inplace=True)\n",
    "raw"
   ]
  }
 ],
 "metadata": {
  "kernelspec": {
   "display_name": "Python 3",
   "language": "python",
   "name": "python3"
  },
  "language_info": {
   "codemirror_mode": {
    "name": "ipython",
    "version": 3
   },
   "file_extension": ".py",
   "mimetype": "text/x-python",
   "name": "python",
   "nbconvert_exporter": "python",
   "pygments_lexer": "ipython3",
   "version": "3.9.2"
  }
 },
 "nbformat": 4,
 "nbformat_minor": 4
}
